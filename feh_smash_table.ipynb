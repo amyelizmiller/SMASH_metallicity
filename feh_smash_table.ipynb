{
 "cells": [
  {
   "cell_type": "code",
   "execution_count": 18,
   "metadata": {},
   "outputs": [],
   "source": [
    "import numpy as np\n",
    "import matplotlib.pyplot as plt\n",
    "import matplotlib.patches as mpatches\n",
    "import fitsio\n",
    "from fitsio import FITS,FITSHDR\n",
    "from astropy import units as u\n",
    "from astropy.coordinates import SkyCoord\n",
    "from PIL import Image\n",
    "from scipy import stats\n",
    "from astropy.table import Table, Column\n",
    "from astropy.io import ascii"
   ]
  },
  {
   "cell_type": "code",
   "execution_count": 2,
   "metadata": {},
   "outputs": [],
   "source": [
    "data = '/Users/amyel/research/SMASHproject/datafiles/matched_data.fits'\n",
    "fx = fitsio.FITS(data)\n",
    "objs = fx[1].read()"
   ]
  },
  {
   "cell_type": "code",
   "execution_count": 3,
   "metadata": {},
   "outputs": [
    {
     "data": {
      "text/plain": [
       "array([( 14.415298  , 0.718604  , 5297.5   , 4.4272823, -0.6448489 , b'1237663204920459328', 19.036293, 17.480038, 16.890882 , 16.660769, 0.00835069, 0.00228338, 0.00159616, 0.02609584,  True),\n",
       "       ( 14.519823  , 0.807096  , 4545.8696, 4.6285467, -0.95265365, b'1237663204920525012', 21.29038 , 19.181652, 18.204958 , 17.857706, 0.07730225, 0.00613446, 0.00415108, 0.02691421,  True),\n",
       "       ( 14.5311    , 0.791671  , 6507.0327, 3.328773 , -2.9210906 , b'1237663204920525018', 19.732542, 18.915205, 18.68072  , 18.574429, 0.012401  , 0.00551958, 0.00430055, 0.02757653,  True),\n",
       "       ...,\n",
       "       (353.53997803, 0.230864  , 5773.    , 4.36     ,  0.08      , b'1237666408439611400', 17.092207, 15.664094, 15.182018 , 15.022112, 0.00838887, 0.00439602, 0.00282024, 0.03289959, False),\n",
       "       (353.54449463, 0.28760201, 4567.    , 4.56     , -0.43      , b'1237666408439611402', 18.875969, 16.863127, 16.016212 , 15.698523, 0.01586362, 0.00357837, 0.00237041, 0.03166599, False),\n",
       "       (352.7590332 , 1.21525383, 6023.    , 4.19     , -0.32      , b'1237678617414664217', 16.797985, 15.606579, 15.1946335, 15.063313, 0.01051451, 0.00692078, 0.00343382, 0.03960356, False)],\n",
       "      dtype=[('RA', '>f8'), ('DEC', '>f8'), ('TEFF', '>f4'), ('LOGG', '>f4'), ('FEH', '>f4'), ('ID', 'S19'), ('U', '>f4'), ('G', '>f4'), ('R', '>f4'), ('I', '>f4'), ('UERR', '>f4'), ('GERR', '>f4'), ('RERR', '>f4'), ('EBV', '>f4'), ('survey_type', '?')])"
      ]
     },
     "execution_count": 3,
     "metadata": {},
     "output_type": "execute_result"
    }
   ],
   "source": [
    "objs\n"
   ]
  },
  {
   "cell_type": "code",
   "execution_count": 4,
   "metadata": {},
   "outputs": [],
   "source": [
    "u_g_matched = (objs[\"U\"]-(4.239*objs[\"EBV\"]))-(objs[\"G\"]-(3.303*objs[\"EBV\"]))\n",
    "g_r_matched = (objs[\"G\"]-(3.303*objs[\"EBV\"]))-(objs[\"R\"]-(2.285*objs[\"EBV\"]))"
   ]
  },
  {
   "cell_type": "code",
   "execution_count": 5,
   "metadata": {},
   "outputs": [
    {
     "name": "stderr",
     "output_type": "stream",
     "text": [
      "/Users/amyel/anaconda3/lib/python3.7/site-packages/scipy/stats/_binned_statistic.py:607: FutureWarning: Using a non-tuple sequence for multidimensional indexing is deprecated; use `arr[tuple(seq)]` instead of `arr[seq]`. In the future this will be interpreted as an array index, `arr[np.array(seq)]`, which will result either in an error or a different result.\n",
      "  result = result[core]\n"
     ]
    }
   ],
   "source": [
    "#using both SDSS and LAMOST data\n",
    "ret,xedge,yedge,bin = stats.binned_statistic_2d(u_g_matched,g_r_matched,objs[\"FEH\"],'median',50)"
   ]
  },
  {
   "cell_type": "code",
   "execution_count": 33,
   "metadata": {},
   "outputs": [],
   "source": [
    "#create empty lists to be used in metallicity funciton\n",
    "#list of field number\n",
    "field_number = []\n",
    "#list of initial star count\n",
    "initial_star_count = []\n",
    "#list of star count after color/magnitude cut\n",
    "cut_star_count = []\n",
    "#list of mean metallicity\n",
    "mean_metallicity = []\n",
    "#list of median metallicity\n",
    "median_metallicity = []\n",
    "#list of standard deviation for each field\n",
    "std = []"
   ]
  },
  {
   "cell_type": "code",
   "execution_count": 34,
   "metadata": {},
   "outputs": [],
   "source": [
    "def metallicity(filename):\n",
    "    \n",
    "    #read fits file\n",
    "    fx = fitsio.FITS(filename)\n",
    "    objs_new = fx[1].read()\n",
    "    \n",
    "    #extract field number from filename string\n",
    "    newstr = ''.join((ch if ch in '0123456789' else ' ') for ch in filename)\n",
    "    field_number_transient = [int(i) for i in newstr.split()]\n",
    "    print(\"number of initial stars in field \"+str(field_number_transient[0])+\": \"+str(len(objs_new)))\n",
    "    \n",
    "    #append to lists\n",
    "    field_number.append(field_number_transient[0])\n",
    "    initial_star_count.append(len(objs_new))\n",
    "    \n",
    "    #deredden the colors from input file\n",
    "    u = (objs_new[\"U\"]-(4.239*objs_new[\"EBV\"]))\n",
    "    g = (objs_new[\"G\"]-(3.303*objs_new[\"EBV\"]))\n",
    "    i = (objs_new[\"I\"]-(1.263*objs_new[\"EBV\"]))\n",
    "    r = (objs_new[\"R\"]-(2.285*objs_new[\"EBV\"]))\n",
    "\n",
    "    #make cuts\n",
    "    selected = np.where(((g-i)>=0.11)&((g-i)<=0.44)&(g>=21.4)&(g<=22.8))\n",
    "    cut_u = u[selected]\n",
    "    cut_g = g[selected]\n",
    "    cut_i = i[selected]\n",
    "    cut_r = r[selected]\n",
    "    u_g = cut_u-cut_g\n",
    "    g_r = cut_g-cut_r\n",
    "    g_i = cut_g-cut_r\n",
    "    \n",
    "    #append to list\n",
    "    cut_star_count.append(len(cut_u))\n",
    "    print(\"number of  stars in field \"+str(field_number_transient[0])+\" after color/magnitude cuts: \"+str(len(cut_u)))\n",
    "    \n",
    "    #read out metallicity values using yumi's method\n",
    "    ind, = np.where((u_g>=xedge.min())&(u_g<=xedge.max())&(g_r>=yedge.min())&(g_r<=yedge.max()))\n",
    "    ix = np.searchsorted(xedge,u_g[ind])\n",
    "    ix = ix-1\n",
    "    iy = np.searchsorted(yedge,g_r[ind])\n",
    "    iy = iy-1\n",
    "    new_metal = ret[ix,iy]\n",
    "    \n",
    "    #calculate mean, median, standard devitation; print values; append appropriate lists \n",
    "    mean = np.nanmean(new_metal)\n",
    "    median = np.nanmedian(new_metal)\n",
    "    std_value = np.nanstd(new_metal)\n",
    "    print(\"median: \",median)\n",
    "    print(\"mean: \",mean)\n",
    "    print(\"standard deviation: \",std_value)\n",
    "    mean_metallicity.append(mean)\n",
    "    median_metallicity.append(median)\n",
    "    std.append(std_value)\n",
    "    \n",
    "    \n",
    "    #NOTE: below: add offset of .7 after comparing to APOGEE spectroscopy\n",
    "    #find medium, mean metallicity\n",
    "    #mean = np.nanmean(new_metal)+.7\n",
    "    #median = np.nanmedian(new_metal)+.7\n",
    "    #print(\"median: \",median)\n",
    "    #print(\"mean: \",mean)\n",
    "    \n",
    "    return 0"
   ]
  },
  {
   "cell_type": "code",
   "execution_count": 35,
   "metadata": {},
   "outputs": [],
   "source": [
    "#SMASH field arrays\n",
    "LMC_outer_fields = [156,24,246,26,27,28,29,31,33,44,52,53,54,55,56,57,58,59,60,61,63,64,66,68]\n",
    "LMC_inner_fields = [30,32,34,35,37,40,42,46,48,49,50,51]\n",
    "SMC_outer_fields = [1,13,149,150,176,177,178,18,20,21,22,8]\n",
    "SMC_inner_fields = [12,14,15,16,19,2,3,4,5,7,9]\n",
    "\n"
   ]
  },
  {
   "cell_type": "markdown",
   "metadata": {},
   "source": [
    "### Run metallicity function for LMC periphery fields"
   ]
  },
  {
   "cell_type": "code",
   "execution_count": 97,
   "metadata": {},
   "outputs": [
    {
     "name": "stdout",
     "output_type": "stream",
     "text": [
      "number of initial stars in field 156: 122018\n",
      "number of  stars in field 156 after color/magnitude cuts: 1285\n",
      "median:  -1.4411659240722656\n",
      "mean:  -1.3765135254368794\n",
      "standard deviation:  0.6549224927233428\n",
      "number of initial stars in field 24: 29599\n",
      "number of  stars in field 24 after color/magnitude cuts: 715\n",
      "median:  -1.447492003440857\n",
      "mean:  -1.4006474511749918\n",
      "standard deviation:  0.6829247863499761\n",
      "number of initial stars in field 246: 76714\n",
      "number of  stars in field 246 after color/magnitude cuts: 1017\n",
      "median:  -1.3419320583343506\n",
      "mean:  -1.1354115158319473\n",
      "standard deviation:  0.6667843377530529\n",
      "number of initial stars in field 26: 52301\n",
      "number of  stars in field 26 after color/magnitude cuts: 4596\n",
      "median:  -1.4035937786102295\n",
      "mean:  -1.3138622322813012\n",
      "standard deviation:  0.6511373465144901\n",
      "number of initial stars in field 27: 94878\n",
      "number of  stars in field 27 after color/magnitude cuts: 21383\n",
      "median:  -1.447492003440857\n",
      "mean:  -1.385981988836408\n",
      "standard deviation:  0.6889421855475161\n",
      "number of initial stars in field 28: 114705\n",
      "number of  stars in field 28 after color/magnitude cuts: 18916\n",
      "median:  -1.4035937786102295\n",
      "mean:  -1.3197357342063933\n",
      "standard deviation:  0.6631246246338106\n",
      "number of initial stars in field 29: 404098\n",
      "number of  stars in field 29 after color/magnitude cuts: 99393\n",
      "median:  -1.4411659240722656\n",
      "mean:  -1.3604937254725722\n",
      "standard deviation:  0.6479346680678805\n",
      "number of initial stars in field 31: 46943\n",
      "number of  stars in field 31 after color/magnitude cuts: 1703\n",
      "median:  -1.5298746824264526\n",
      "mean:  -1.4210028691110101\n",
      "standard deviation:  0.6526779359629806\n",
      "number of initial stars in field 33: 45996\n",
      "number of  stars in field 33 after color/magnitude cuts: 1933\n",
      "median:  -1.4035937786102295\n",
      "mean:  -1.321077586850585\n",
      "standard deviation:  0.6771095048038593\n",
      "number of initial stars in field 44: 427557\n",
      "number of  stars in field 44 after color/magnitude cuts: 82065\n",
      "median:  -1.7203989028930664\n",
      "mean:  -1.670842062044637\n",
      "standard deviation:  0.5700088607768302\n",
      "number of initial stars in field 52: 62890\n",
      "number of  stars in field 52 after color/magnitude cuts: 3185\n",
      "median:  -1.7203989028930664\n",
      "mean:  -1.6257458581970772\n",
      "standard deviation:  0.6033784901218887\n",
      "number of initial stars in field 53: 396092\n",
      "number of  stars in field 53 after color/magnitude cuts: 155432\n",
      "median:  -1.447492003440857\n",
      "mean:  -1.4108179055812022\n",
      "standard deviation:  0.6504966992309212\n",
      "number of initial stars in field 54: 163332\n",
      "number of  stars in field 54 after color/magnitude cuts: 27333\n",
      "median:  -1.5298746824264526\n",
      "mean:  -1.4440663630870465\n",
      "standard deviation:  0.6220736064937227\n",
      "number of initial stars in field 55: 637616\n",
      "number of  stars in field 55 after color/magnitude cuts: 148292\n",
      "median:  -1.4411659240722656\n",
      "mean:  -1.357551053241799\n",
      "standard deviation:  0.6531487504453316\n",
      "number of initial stars in field 56: 120917\n",
      "number of  stars in field 56 after color/magnitude cuts: 8537\n",
      "median:  -1.9097990989685059\n",
      "mean:  -1.8470588968920985\n",
      "standard deviation:  0.46996203798357217\n",
      "number of initial stars in field 57: 76423\n",
      "number of  stars in field 57 after color/magnitude cuts: 895\n",
      "median:  -1.664670705795288\n",
      "mean:  -1.5821966921361619\n",
      "standard deviation:  0.5493965794058221\n",
      "number of initial stars in field 58: 77341\n",
      "number of  stars in field 58 after color/magnitude cuts: 1478\n",
      "median:  -1.4411659240722656\n",
      "mean:  -1.3927393218669855\n",
      "standard deviation:  0.6272966176984363\n",
      "number of initial stars in field 59: 88849\n",
      "number of  stars in field 59 after color/magnitude cuts: 3170\n",
      "median:  -1.447492003440857\n",
      "mean:  -1.3993819994904115\n",
      "standard deviation:  0.6217332762121838\n",
      "number of initial stars in field 60: 59324\n",
      "number of  stars in field 60 after color/magnitude cuts: 1817\n",
      "median:  -1.7203989028930664\n",
      "mean:  -1.6162108487513172\n",
      "standard deviation:  0.5870784014278467\n",
      "number of initial stars in field 61: 80665\n",
      "number of  stars in field 61 after color/magnitude cuts: 2447\n",
      "median:  -1.664670705795288\n",
      "mean:  -1.5808480663949416\n",
      "standard deviation:  0.6113412179353668\n",
      "number of initial stars in field 63: 113977\n",
      "number of  stars in field 63 after color/magnitude cuts: 2477\n",
      "median:  -1.8289661407470703\n",
      "mean:  -1.7364739961791227\n",
      "standard deviation:  0.5709624014271031\n",
      "number of initial stars in field 64: 68421\n",
      "number of  stars in field 64 after color/magnitude cuts: 1598\n",
      "median:  -1.5315862894058228\n",
      "mean:  -1.5222834335913853\n",
      "standard deviation:  0.5733373987299127\n",
      "number of initial stars in field 66: 101460\n",
      "number of  stars in field 66 after color/magnitude cuts: 1409\n",
      "median:  -1.5298746824264526\n",
      "mean:  -1.4174050767741215\n",
      "standard deviation:  0.607436967771759\n",
      "number of initial stars in field 68: 90704\n",
      "number of  stars in field 68 after color/magnitude cuts: 1304\n",
      "median:  -1.4035937786102295\n",
      "mean:  -1.3581208291221543\n",
      "standard deviation:  0.5964205687043038\n"
     ]
    }
   ],
   "source": [
    "if __name__==\"__main__\":\n",
    "    for number in LMC_outer_fields:\n",
    "        metallicity('/Users/amyel/research/SMASHproject/datafiles/SMASH_fields/vsix/starsthree/Field{}_allobj_deep_stars.fits.gz'.format(number))\n",
    "\n",
    "              "
   ]
  },
  {
   "cell_type": "code",
   "execution_count": 98,
   "metadata": {},
   "outputs": [
    {
     "name": "stdout",
     "output_type": "stream",
     "text": [
      "[156, 24, 246, 26, 27, 28, 29, 31, 33, 44, 52, 53, 54, 55, 56, 57, 58, 59, 60, 61, 63, 64, 66, 68]\n",
      "24\n",
      "[122018, 29599, 76714, 52301, 94878, 114705, 404098, 46943, 45996, 427557, 62890, 396092, 163332, 637616, 120917, 76423, 77341, 88849, 59324, 80665, 113977, 68421, 101460, 90704]\n",
      "24\n",
      "[1285, 715, 1017, 4596, 21383, 18916, 99393, 1703, 1933, 82065, 3185, 155432, 27333, 148292, 8537, 895, 1478, 3170, 1817, 2447, 2477, 1598, 1409, 1304]\n",
      "24\n",
      "[-1.3765135254368794, -1.4006474511749918, -1.1354115158319473, -1.3138622322813012, -1.385981988836408, -1.3197357342063933, -1.3604937254725722, -1.4210028691110101, -1.321077586850585, -1.670842062044637, -1.6257458581970772, -1.4108179055812022, -1.4440663630870465, -1.357551053241799, -1.8470588968920985, -1.5821966921361619, -1.3927393218669855, -1.3993819994904115, -1.6162108487513172, -1.5808480663949416, -1.7364739961791227, -1.5222834335913853, -1.4174050767741215, -1.3581208291221543]\n",
      "24\n",
      "[-1.4411659240722656, -1.447492003440857, -1.3419320583343506, -1.4035937786102295, -1.447492003440857, -1.4035937786102295, -1.4411659240722656, -1.5298746824264526, -1.4035937786102295, -1.7203989028930664, -1.7203989028930664, -1.447492003440857, -1.5298746824264526, -1.4411659240722656, -1.9097990989685059, -1.664670705795288, -1.4411659240722656, -1.447492003440857, -1.7203989028930664, -1.664670705795288, -1.8289661407470703, -1.5315862894058228, -1.5298746824264526, -1.4035937786102295]\n",
      "24\n",
      "[0.6549224927233428, 0.6829247863499761, 0.6667843377530529, 0.6511373465144901, 0.6889421855475161, 0.6631246246338106, 0.6479346680678805, 0.6526779359629806, 0.6771095048038593, 0.5700088607768302, 0.6033784901218887, 0.6504966992309212, 0.6220736064937227, 0.6531487504453316, 0.46996203798357217, 0.5493965794058221, 0.6272966176984363, 0.6217332762121838, 0.5870784014278467, 0.6113412179353668, 0.5709624014271031, 0.5733373987299127, 0.607436967771759, 0.5964205687043038]\n",
      "24\n"
     ]
    }
   ],
   "source": [
    "print(field_number)\n",
    "print(len(field_number))\n",
    "print(initial_star_count)\n",
    "print(len(initial_star_count))\n",
    "print(cut_star_count)\n",
    "print(len(cut_star_count))\n",
    "print(mean_metallicity)\n",
    "print(len(mean_metallicity))\n",
    "print(median_metallicity)\n",
    "print(len(median_metallicity))\n",
    "print(std)\n",
    "print(len(std))"
   ]
  },
  {
   "cell_type": "code",
   "execution_count": 99,
   "metadata": {},
   "outputs": [
    {
     "name": "stdout",
     "output_type": "stream",
     "text": [
      "Total number of initial LMC periphery stars before: 3552820\n",
      "Total number of LMC periphery stars after color/magnitude cuts: 592380\n"
     ]
    }
   ],
   "source": [
    "print(\"Total number of initial LMC periphery stars before: \"+str(sum(initial_star_count)))\n",
    "print(\"Total number of LMC periphery stars after color/magnitude cuts: \"+str(sum(cut_star_count)))"
   ]
  },
  {
   "cell_type": "markdown",
   "metadata": {},
   "source": [
    "### Make table for 24 SMASH LMC periphery fields"
   ]
  },
  {
   "cell_type": "code",
   "execution_count": 100,
   "metadata": {},
   "outputs": [],
   "source": [
    "arrays = [(np.array(field_number)),(np.array(initial_star_count)),(np.array(cut_star_count)),(np.array(mean_metallicity)).round(decimals=3),(np.array(median_metallicity)).round(decimals=3),(np.array(std)).round(decimals=3)]\n"
   ]
  },
  {
   "cell_type": "code",
   "execution_count": 74,
   "metadata": {},
   "outputs": [],
   "source": [
    "outer_LMC_table = Table(arrays,names=('Field Number','Initial Star Count','Star Count after Color/Magnitude Cuts','Mean Metallicity','Median Metallicity','Standard Deviation'))\n",
    "\n"
   ]
  },
  {
   "cell_type": "code",
   "execution_count": 84,
   "metadata": {},
   "outputs": [
    {
     "name": "stdout",
     "output_type": "stream",
     "text": [
      "Field Number Initial Star Count Star Count after Color/Magnitude Cuts Mean Metallicity Median Metallicity Standard Deviation\n",
      "------------ ------------------ ------------------------------------- ---------------- ------------------ ------------------\n",
      "         156             122018                                  1285           -1.377             -1.441              0.655\n",
      "          24              29599                                   715           -1.401             -1.447              0.683\n",
      "         246              76714                                  1017           -1.135             -1.342              0.667\n",
      "          26              52301                                  4596           -1.314             -1.404              0.651\n",
      "          27              94878                                 21383           -1.386             -1.447              0.689\n",
      "          28             114705                                 18916            -1.32             -1.404              0.663\n",
      "          29             404098                                 99393            -1.36             -1.441              0.648\n",
      "          31              46943                                  1703           -1.421              -1.53              0.653\n",
      "          33              45996                                  1933           -1.321             -1.404              0.677\n",
      "          44             427557                                 82065           -1.671              -1.72               0.57\n",
      "          52              62890                                  3185           -1.626              -1.72              0.603\n",
      "          53             396092                                155432           -1.411             -1.447               0.65\n",
      "          54             163332                                 27333           -1.444              -1.53              0.622\n",
      "          55             637616                                148292           -1.358             -1.441              0.653\n",
      "          56             120917                                  8537           -1.847              -1.91               0.47\n",
      "          57              76423                                   895           -1.582             -1.665              0.549\n",
      "          58              77341                                  1478           -1.393             -1.441              0.627\n",
      "          59              88849                                  3170           -1.399             -1.447              0.622\n",
      "          60              59324                                  1817           -1.616              -1.72              0.587\n",
      "          61              80665                                  2447           -1.581             -1.665              0.611\n",
      "          63             113977                                  2477           -1.736             -1.829              0.571\n",
      "          64              68421                                  1598           -1.522             -1.532              0.573\n",
      "          66             101460                                  1409           -1.417              -1.53              0.607\n",
      "          68              90704                                  1304           -1.358             -1.404              0.596\n"
     ]
    }
   ],
   "source": [
    "\n",
    "outer_LMC_table.pprint(max_lines=-1, max_width=-1)"
   ]
  },
  {
   "cell_type": "markdown",
   "metadata": {},
   "source": [
    "### Write table to file"
   ]
  },
  {
   "cell_type": "code",
   "execution_count": 80,
   "metadata": {},
   "outputs": [],
   "source": [
    "\n",
    "\n",
    "ascii.write(outer_LMC_table,'24 SMASH LMC Periphery Fields.csv',format='csv', fast_writer=False)\n"
   ]
  },
  {
   "cell_type": "code",
   "execution_count": 83,
   "metadata": {},
   "outputs": [
    {
     "name": "stdout",
     "output_type": "stream",
     "text": [
      "['Field Number', 'Initial Star Count', 'Star Count after Color/Magnitude Cuts', 'Mean Metallicity', 'Median Metallicity', 'Standard Deviation']\n",
      "['156', '122018', '1285', '-1.377', '-1.441', '0.655']\n",
      "['24', '29599', '715', '-1.401', '-1.447', '0.683']\n",
      "['246', '76714', '1017', '-1.135', '-1.342', '0.667']\n",
      "['26', '52301', '4596', '-1.314', '-1.404', '0.651']\n",
      "['27', '94878', '21383', '-1.386', '-1.447', '0.689']\n",
      "['28', '114705', '18916', '-1.32', '-1.404', '0.663']\n",
      "['29', '404098', '99393', '-1.36', '-1.441', '0.648']\n",
      "['31', '46943', '1703', '-1.421', '-1.53', '0.653']\n",
      "['33', '45996', '1933', '-1.321', '-1.404', '0.677']\n",
      "['44', '427557', '82065', '-1.671', '-1.72', '0.57']\n",
      "['52', '62890', '3185', '-1.626', '-1.72', '0.603']\n",
      "['53', '396092', '155432', '-1.411', '-1.447', '0.65']\n",
      "['54', '163332', '27333', '-1.444', '-1.53', '0.622']\n",
      "['55', '637616', '148292', '-1.358', '-1.441', '0.653']\n",
      "['56', '120917', '8537', '-1.847', '-1.91', '0.47']\n",
      "['57', '76423', '895', '-1.582', '-1.665', '0.549']\n",
      "['58', '77341', '1478', '-1.393', '-1.441', '0.627']\n",
      "['59', '88849', '3170', '-1.399', '-1.447', '0.622']\n",
      "['60', '59324', '1817', '-1.616', '-1.72', '0.587']\n",
      "['61', '80665', '2447', '-1.581', '-1.665', '0.611']\n",
      "['63', '113977', '2477', '-1.736', '-1.829', '0.571']\n",
      "['64', '68421', '1598', '-1.522', '-1.532', '0.573']\n",
      "['66', '101460', '1409', '-1.417', '-1.53', '0.607']\n",
      "['68', '90704', '1304', '-1.358', '-1.404', '0.596']\n"
     ]
    }
   ],
   "source": [
    "import csv\n",
    "with open('24 SMASH LMC Periphery Fields.csv') as f:\n",
    "    reader = csv.reader(f)\n",
    "    for row in reader:\n",
    "        print(row)"
   ]
  },
  {
   "cell_type": "markdown",
   "metadata": {},
   "source": [
    "### Run metallicity function for LMC main body fields"
   ]
  },
  {
   "cell_type": "code",
   "execution_count": 104,
   "metadata": {},
   "outputs": [
    {
     "name": "stdout",
     "output_type": "stream",
     "text": [
      "number of initial stars in field 30: 1551563\n",
      "number of  stars in field 30 after color/magnitude cuts: 110478\n",
      "median:  -1.274411916732788\n",
      "mean:  -1.2790842923674013\n",
      "standard deviation:  0.670759679741447\n",
      "number of initial stars in field 32: 1825281\n",
      "number of  stars in field 32 after color/magnitude cuts: 360148\n",
      "median:  -1.1198506355285645\n",
      "mean:  -1.1976510338658024\n",
      "standard deviation:  0.6646917111479915\n",
      "number of initial stars in field 34: 1421909\n",
      "number of  stars in field 34 after color/magnitude cuts: 423023\n",
      "median:  -1.447492003440857\n",
      "mean:  -1.3951076149374833\n",
      "standard deviation:  0.6380655075651893\n",
      "number of initial stars in field 35: 1606580\n",
      "number of  stars in field 35 after color/magnitude cuts: 80400\n",
      "median:  -1.100000023841858\n",
      "mean:  -1.1404619792506554\n",
      "standard deviation:  0.674085393647737\n",
      "number of initial stars in field 37: 1743130\n",
      "number of  stars in field 37 after color/magnitude cuts: 296683\n",
      "median:  -1.2070218324661255\n",
      "mean:  -1.2409100695838062\n",
      "standard deviation:  0.6619515582372671\n",
      "number of initial stars in field 40: 1752944\n",
      "number of  stars in field 40 after color/magnitude cuts: 547078\n",
      "median:  -1.1839725971221924\n",
      "mean:  -1.2267745602830837\n",
      "standard deviation:  0.6460323769518082\n",
      "number of initial stars in field 42: 1882163\n",
      "number of  stars in field 42 after color/magnitude cuts: 163259\n",
      "median:  -1.100000023841858\n",
      "mean:  -1.1385983824978068\n",
      "standard deviation:  0.6697789494767419\n",
      "number of initial stars in field 46: 1304849\n",
      "number of  stars in field 46 after color/magnitude cuts: 419384\n",
      "median:  -1.447492003440857\n",
      "mean:  -1.373064676084278\n",
      "standard deviation:  0.6837236484793757\n",
      "number of initial stars in field 48: 2145968\n",
      "number of  stars in field 48 after color/magnitude cuts: 207284\n",
      "median:  -1.1198506355285645\n",
      "mean:  -1.2062539826482928\n",
      "standard deviation:  0.7047148182138855\n",
      "number of initial stars in field 49: 1763774\n",
      "number of  stars in field 49 after color/magnitude cuts: 441649\n",
      "median:  -1.1509276628494263\n",
      "mean:  -1.1858527213223955\n",
      "standard deviation:  0.6135754051763209\n",
      "number of initial stars in field 50: 1155082\n",
      "number of  stars in field 50 after color/magnitude cuts: 115484\n",
      "median:  -1.3947120308876038\n",
      "mean:  -1.401382761804954\n",
      "standard deviation:  0.7561670702901315\n"
     ]
    },
    {
     "name": "stderr",
     "output_type": "stream",
     "text": [
      "/Users/amyel/anaconda3/lib/python3.7/site-packages/ipykernel_launcher.py:37: RuntimeWarning: invalid value encountered in greater_equal\n",
      "/Users/amyel/anaconda3/lib/python3.7/site-packages/ipykernel_launcher.py:37: RuntimeWarning: invalid value encountered in less_equal\n"
     ]
    },
    {
     "name": "stdout",
     "output_type": "stream",
     "text": [
      "number of initial stars in field 51: 1574573\n",
      "number of  stars in field 51 after color/magnitude cuts: 384681\n",
      "median:  -1.2070218324661255\n",
      "mean:  -1.2572755797732513\n",
      "standard deviation:  0.644790291167799\n"
     ]
    }
   ],
   "source": [
    "if __name__==\"__main__\":\n",
    "    for number in LMC_inner_fields:\n",
    "        metallicity('/Users/amyel/research/SMASHproject/datafiles/SMASH_fields/vsix/starsthree/Field{}_allobj_deep_stars.fits.gz'.format(number))\n",
    "\n",
    "              "
   ]
  },
  {
   "cell_type": "code",
   "execution_count": 105,
   "metadata": {},
   "outputs": [
    {
     "name": "stdout",
     "output_type": "stream",
     "text": [
      "[30, 32, 34, 35, 37, 40, 42, 46, 48, 49, 50, 51]\n",
      "12\n",
      "[1551563, 1825281, 1421909, 1606580, 1743130, 1752944, 1882163, 1304849, 2145968, 1763774, 1155082, 1574573]\n",
      "12\n",
      "[110478, 360148, 423023, 80400, 296683, 547078, 163259, 419384, 207284, 441649, 115484, 384681]\n",
      "12\n",
      "[-1.2790842923674013, -1.1976510338658024, -1.3951076149374833, -1.1404619792506554, -1.2409100695838062, -1.2267745602830837, -1.1385983824978068, -1.373064676084278, -1.2062539826482928, -1.1858527213223955, -1.401382761804954, -1.2572755797732513]\n",
      "12\n",
      "[-1.274411916732788, -1.1198506355285645, -1.447492003440857, -1.100000023841858, -1.2070218324661255, -1.1839725971221924, -1.100000023841858, -1.447492003440857, -1.1198506355285645, -1.1509276628494263, -1.3947120308876038, -1.2070218324661255]\n",
      "12\n",
      "[0.670759679741447, 0.6646917111479915, 0.6380655075651893, 0.674085393647737, 0.6619515582372671, 0.6460323769518082, 0.6697789494767419, 0.6837236484793757, 0.7047148182138855, 0.6135754051763209, 0.7561670702901315, 0.644790291167799]\n",
      "12\n"
     ]
    }
   ],
   "source": [
    "print(field_number)\n",
    "print(len(field_number))\n",
    "print(initial_star_count)\n",
    "print(len(initial_star_count))\n",
    "print(cut_star_count)\n",
    "print(len(cut_star_count))\n",
    "print(mean_metallicity)\n",
    "print(len(mean_metallicity))\n",
    "print(median_metallicity)\n",
    "print(len(median_metallicity))\n",
    "print(std)\n",
    "print(len(std))"
   ]
  },
  {
   "cell_type": "code",
   "execution_count": 110,
   "metadata": {},
   "outputs": [
    {
     "name": "stdout",
     "output_type": "stream",
     "text": [
      "Total number of initial LMC main body stars: 19727816\n",
      "Total number of LMC main body stars after color/magnitude cuts: 3549551\n"
     ]
    }
   ],
   "source": [
    "print(\"Total number of initial LMC main body stars: \"+str(sum(initial_star_count)))\n",
    "print(\"Total number of LMC main body stars after color/magnitude cuts: \"+str(sum(cut_star_count)))"
   ]
  },
  {
   "cell_type": "markdown",
   "metadata": {},
   "source": [
    "### Make table for 12 SMASH LMC main body fields"
   ]
  },
  {
   "cell_type": "code",
   "execution_count": 106,
   "metadata": {},
   "outputs": [],
   "source": [
    "arrays = [(np.array(field_number)),(np.array(initial_star_count)),(np.array(cut_star_count)),(np.array(mean_metallicity)).round(decimals=3),(np.array(median_metallicity)).round(decimals=3),(np.array(std)).round(decimals=3)]\n"
   ]
  },
  {
   "cell_type": "code",
   "execution_count": 107,
   "metadata": {},
   "outputs": [],
   "source": [
    "inner_LMC_table = Table(arrays,names=('Field Number','Initial Star Count','Star Count after Color/Magnitude Cuts','Mean Metallicity','Median Metallicity','Standard Deviation'))\n"
   ]
  },
  {
   "cell_type": "code",
   "execution_count": 108,
   "metadata": {},
   "outputs": [
    {
     "name": "stdout",
     "output_type": "stream",
     "text": [
      "Field Number Initial Star Count Star Count after Color/Magnitude Cuts Mean Metallicity Median Metallicity Standard Deviation\n",
      "------------ ------------------ ------------------------------------- ---------------- ------------------ ------------------\n",
      "          30            1551563                                110478           -1.279             -1.274              0.671\n",
      "          32            1825281                                360148           -1.198              -1.12              0.665\n",
      "          34            1421909                                423023           -1.395             -1.447              0.638\n",
      "          35            1606580                                 80400            -1.14               -1.1              0.674\n",
      "          37            1743130                                296683           -1.241             -1.207              0.662\n",
      "          40            1752944                                547078           -1.227             -1.184              0.646\n",
      "          42            1882163                                163259           -1.139               -1.1               0.67\n",
      "          46            1304849                                419384           -1.373             -1.447              0.684\n",
      "          48            2145968                                207284           -1.206              -1.12              0.705\n",
      "          49            1763774                                441649           -1.186             -1.151              0.614\n",
      "          50            1155082                                115484           -1.401             -1.395              0.756\n",
      "          51            1574573                                384681           -1.257             -1.207              0.645\n"
     ]
    }
   ],
   "source": [
    "inner_LMC_table.pprint(max_lines=-1, max_width=-1)"
   ]
  },
  {
   "cell_type": "code",
   "execution_count": 109,
   "metadata": {},
   "outputs": [
    {
     "name": "stderr",
     "output_type": "stream",
     "text": [
      "WARNING: AstropyDeprecationWarning: 12 SMASH LMC Main Body Fields.csv already exists. Automatically overwriting ASCII files is deprecated. Use the argument 'overwrite=True' in the future. [astropy.io.ascii.ui]\n"
     ]
    }
   ],
   "source": [
    "ascii.write(inner_LMC_table,'12 SMASH LMC Main Body Fields.csv',format='csv', fast_writer=False)"
   ]
  },
  {
   "cell_type": "markdown",
   "metadata": {},
   "source": [
    "### Run metallicity function for SMC periphery fields"
   ]
  },
  {
   "cell_type": "code",
   "execution_count": 30,
   "metadata": {},
   "outputs": [
    {
     "name": "stdout",
     "output_type": "stream",
     "text": [
      "number of initial stars in field 1: 46634\n",
      "number of  stars in field 1 after color/magnitude cuts: 4955\n",
      "median:  -1.1839725971221924\n",
      "mean:  -1.2195487196929753\n",
      "standard deviation:  0.6819104555991227\n",
      "number of initial stars in field 13: 80790\n",
      "number of  stars in field 13 after color/magnitude cuts: 6015\n",
      "median:  -1.447492003440857\n",
      "mean:  -1.4123456668506786\n",
      "standard deviation:  0.6527095165914374\n",
      "number of initial stars in field 149: 69283\n",
      "number of  stars in field 149 after color/magnitude cuts: 912\n",
      "median:  -1.5315862894058228\n",
      "mean:  -1.4715719839324064\n",
      "standard deviation:  0.56929508573737\n",
      "number of initial stars in field 150: 46060\n",
      "number of  stars in field 150 after color/magnitude cuts: 564\n",
      "median:  -1.5315862894058228\n",
      "mean:  -1.488546660241995\n",
      "standard deviation:  0.5731003838742754\n",
      "number of initial stars in field 176: 111318\n",
      "number of  stars in field 176 after color/magnitude cuts: 13328\n",
      "median:  -1.447492003440857\n",
      "mean:  -1.417238399752326\n",
      "standard deviation:  0.6363317881486384\n",
      "number of initial stars in field 177: 98553\n",
      "number of  stars in field 177 after color/magnitude cuts: 3515\n",
      "median:  -1.3419320583343506\n",
      "mean:  -1.3444519109274573\n",
      "standard deviation:  0.6267477303683522\n",
      "number of initial stars in field 178: 233226\n",
      "number of  stars in field 178 after color/magnitude cuts: 37355\n",
      "median:  -1.447492003440857\n",
      "mean:  -1.392215363763462\n",
      "standard deviation:  0.6475469026567353\n",
      "number of initial stars in field 18: 77413\n",
      "number of  stars in field 18 after color/magnitude cuts: 7460\n",
      "median:  -1.447492003440857\n",
      "mean:  -1.4206483915390373\n",
      "standard deviation:  0.6420830138247304\n",
      "number of initial stars in field 20: 42362\n",
      "number of  stars in field 20 after color/magnitude cuts: 588\n",
      "median:  -1.8289661407470703\n",
      "mean:  -1.7858262050896883\n",
      "standard deviation:  0.5191283779353782\n",
      "number of initial stars in field 21: 46188\n",
      "number of  stars in field 21 after color/magnitude cuts: 817\n",
      "median:  -1.447492003440857\n",
      "mean:  -1.429251514787051\n",
      "standard deviation:  0.6365739427900705\n",
      "number of initial stars in field 22: 59954\n",
      "number of  stars in field 22 after color/magnitude cuts: 1038\n",
      "median:  -1.8289661407470703\n",
      "mean:  -1.7849362181156005\n",
      "standard deviation:  0.5460905919883069\n",
      "number of initial stars in field 8: 53873\n",
      "number of  stars in field 8 after color/magnitude cuts: 1070\n",
      "median:  -1.5725317001342773\n",
      "mean:  -1.5152192796434252\n",
      "standard deviation:  0.605623313357807\n"
     ]
    }
   ],
   "source": [
    "if __name__==\"__main__\":\n",
    "    for number in SMC_outer_fields:\n",
    "        metallicity('/Users/amyel/research/SMASHproject/datafiles/SMASH_fields/vsix/starsthree/Field{}_allobj_deep_stars.fits.gz'.format(number))\n",
    "\n",
    "              "
   ]
  },
  {
   "cell_type": "code",
   "execution_count": 31,
   "metadata": {},
   "outputs": [
    {
     "name": "stdout",
     "output_type": "stream",
     "text": [
      "[1, 13, 149, 150, 176, 177, 178, 18, 20, 21, 22, 8]\n",
      "12\n",
      "[46634, 80790, 69283, 46060, 111318, 98553, 233226, 77413, 42362, 46188, 59954, 53873]\n",
      "12\n",
      "[4955, 6015, 912, 564, 13328, 3515, 37355, 7460, 588, 817, 1038, 1070]\n",
      "12\n",
      "[-1.2195487196929753, -1.4123456668506786, -1.4715719839324064, -1.488546660241995, -1.417238399752326, -1.3444519109274573, -1.392215363763462, -1.4206483915390373, -1.7858262050896883, -1.429251514787051, -1.7849362181156005, -1.5152192796434252]\n",
      "12\n",
      "[-1.1839725971221924, -1.447492003440857, -1.5315862894058228, -1.5315862894058228, -1.447492003440857, -1.3419320583343506, -1.447492003440857, -1.447492003440857, -1.8289661407470703, -1.447492003440857, -1.8289661407470703, -1.5725317001342773]\n",
      "12\n",
      "[0.6819104555991227, 0.6527095165914374, 0.56929508573737, 0.5731003838742754, 0.6363317881486384, 0.6267477303683522, 0.6475469026567353, 0.6420830138247304, 0.5191283779353782, 0.6365739427900705, 0.5460905919883069, 0.605623313357807]\n",
      "12\n"
     ]
    }
   ],
   "source": [
    "print(field_number)\n",
    "print(len(field_number))\n",
    "print(initial_star_count)\n",
    "print(len(initial_star_count))\n",
    "print(cut_star_count)\n",
    "print(len(cut_star_count))\n",
    "print(mean_metallicity)\n",
    "print(len(mean_metallicity))\n",
    "print(median_metallicity)\n",
    "print(len(median_metallicity))\n",
    "print(std)\n",
    "print(len(std))"
   ]
  },
  {
   "cell_type": "code",
   "execution_count": 32,
   "metadata": {},
   "outputs": [
    {
     "name": "stdout",
     "output_type": "stream",
     "text": [
      "Total number of initial SMC peripnery stars: 965654\n",
      "Total number of SMC periphery stars after color/magnitude cuts: 77617\n"
     ]
    }
   ],
   "source": [
    "print(\"Total number of initial SMC peripnery stars: \"+str(sum(initial_star_count)))\n",
    "print(\"Total number of SMC periphery stars after color/magnitude cuts: \"+str(sum(cut_star_count)))"
   ]
  },
  {
   "cell_type": "markdown",
   "metadata": {},
   "source": [
    "### Make table for 12 SMC periphery fields"
   ]
  },
  {
   "cell_type": "code",
   "execution_count": 12,
   "metadata": {},
   "outputs": [],
   "source": [
    "arrays = [(np.array(field_number)),(np.array(initial_star_count)),(np.array(cut_star_count)),(np.array(mean_metallicity)).round(decimals=3),(np.array(median_metallicity)).round(decimals=3),(np.array(std)).round(decimals=3)]\n"
   ]
  },
  {
   "cell_type": "code",
   "execution_count": 14,
   "metadata": {},
   "outputs": [],
   "source": [
    "outer_SMC_table = Table(arrays,names=('Field Number','Initial Star Count','Star Count after Color/Magnitude Cuts','Mean Metallicity','Median Metallicity','Standard Deviation'))\n"
   ]
  },
  {
   "cell_type": "code",
   "execution_count": 16,
   "metadata": {},
   "outputs": [
    {
     "name": "stdout",
     "output_type": "stream",
     "text": [
      "Field Number Initial Star Count Star Count after Color/Magnitude Cuts Mean Metallicity Median Metallicity Standard Deviation\n",
      "------------ ------------------ ------------------------------------- ---------------- ------------------ ------------------\n",
      "           1              46634                                  4955            -1.22             -1.184              0.682\n",
      "          13              80790                                  6015           -1.412             -1.447              0.653\n",
      "         149              69283                                   912           -1.472             -1.532              0.569\n",
      "         150              46060                                   564           -1.489             -1.532              0.573\n",
      "         176             111318                                 13328           -1.417             -1.447              0.636\n",
      "         177              98553                                  3515           -1.344             -1.342              0.627\n",
      "         178             233226                                 37355           -1.392             -1.447              0.648\n",
      "          18              77413                                  7460           -1.421             -1.447              0.642\n",
      "          20              42362                                   588           -1.786             -1.829              0.519\n",
      "          21              46188                                   817           -1.429             -1.447              0.637\n",
      "          22              59954                                  1038           -1.785             -1.829              0.546\n",
      "           8              53873                                  1070           -1.515             -1.573              0.606\n"
     ]
    }
   ],
   "source": [
    "outer_SMC_table.pprint(max_lines=-1, max_width=-1)"
   ]
  },
  {
   "cell_type": "code",
   "execution_count": 20,
   "metadata": {},
   "outputs": [],
   "source": [
    "ascii.write(outer_SMC_table,'12 SMASH SMC Periphery Fields.csv',format='csv', fast_writer=False)"
   ]
  },
  {
   "cell_type": "markdown",
   "metadata": {},
   "source": [
    "### Run metallicity function for SMC main body fields"
   ]
  },
  {
   "cell_type": "code",
   "execution_count": 36,
   "metadata": {},
   "outputs": [
    {
     "name": "stdout",
     "output_type": "stream",
     "text": [
      "number of initial stars in field 12: 515707\n",
      "number of  stars in field 12 after color/magnitude cuts: 87455\n",
      "median:  -1.447492003440857\n",
      "mean:  -1.4268286189194352\n",
      "standard deviation:  0.6680220836845192\n",
      "number of initial stars in field 14: 776768\n",
      "number of  stars in field 14 after color/magnitude cuts: 112334\n",
      "median:  -1.447492003440857\n",
      "mean:  -1.4195000441249785\n",
      "standard deviation:  0.6386960069279124\n",
      "number of initial stars in field 15: 755871\n",
      "number of  stars in field 15 after color/magnitude cuts: 112511\n",
      "median:  -1.4035937786102295\n",
      "mean:  -1.3553907278746795\n",
      "standard deviation:  0.6602790958203677\n",
      "number of initial stars in field 16: 402062\n",
      "number of  stars in field 16 after color/magnitude cuts: 66450\n",
      "median:  -1.447492003440857\n",
      "mean:  -1.4270475017946493\n",
      "standard deviation:  0.6539121848184676\n",
      "number of initial stars in field 19: 43871\n",
      "number of  stars in field 19 after color/magnitude cuts: 4176\n",
      "median:  -1.447492003440857\n",
      "mean:  -1.4016611789593956\n",
      "standard deviation:  0.6761414338047171\n",
      "number of initial stars in field 2: 61991\n",
      "number of  stars in field 2 after color/magnitude cuts: 6052\n",
      "median:  -1.4035937786102295\n",
      "mean:  -1.3222157347387349\n",
      "standard deviation:  0.6735859273558701\n",
      "number of initial stars in field 3: 847797\n",
      "number of  stars in field 3 after color/magnitude cuts: 139917\n",
      "median:  -1.274411916732788\n",
      "mean:  -1.3344073560374936\n",
      "standard deviation:  0.6466056968765057\n",
      "number of initial stars in field 4: 640420\n",
      "number of  stars in field 4 after color/magnitude cuts: 120362\n",
      "median:  -1.4035937786102295\n",
      "mean:  -1.3648531536862418\n",
      "standard deviation:  0.6395829686207126\n",
      "number of initial stars in field 5: 1048414\n",
      "number of  stars in field 5 after color/magnitude cuts: 194107\n",
      "median:  -1.5298746824264526\n",
      "mean:  -1.44244677015881\n",
      "standard deviation:  0.6441452725148406\n",
      "number of initial stars in field 7: 1201514\n",
      "number of  stars in field 7 after color/magnitude cuts: 239575\n",
      "median:  -1.4035937786102295\n",
      "mean:  -1.3519769477285566\n",
      "standard deviation:  0.6522756455044538\n",
      "number of initial stars in field 9: 723837\n",
      "number of  stars in field 9 after color/magnitude cuts: 106873\n",
      "median:  -1.447492003440857\n",
      "mean:  -1.4272637965702424\n",
      "standard deviation:  0.6440043844245964\n"
     ]
    }
   ],
   "source": [
    "if __name__==\"__main__\":\n",
    "    for number in SMC_inner_fields:\n",
    "        metallicity('/Users/amyel/research/SMASHproject/datafiles/SMASH_fields/vsix/starsthree/Field{}_allobj_deep_stars.fits.gz'.format(number))\n",
    "\n",
    "              "
   ]
  },
  {
   "cell_type": "code",
   "execution_count": 37,
   "metadata": {},
   "outputs": [
    {
     "name": "stdout",
     "output_type": "stream",
     "text": [
      "[12, 14, 15, 16, 19, 2, 3, 4, 5, 7, 9]\n",
      "11\n",
      "[515707, 776768, 755871, 402062, 43871, 61991, 847797, 640420, 1048414, 1201514, 723837]\n",
      "11\n",
      "[87455, 112334, 112511, 66450, 4176, 6052, 139917, 120362, 194107, 239575, 106873]\n",
      "11\n",
      "[-1.4268286189194352, -1.4195000441249785, -1.3553907278746795, -1.4270475017946493, -1.4016611789593956, -1.3222157347387349, -1.3344073560374936, -1.3648531536862418, -1.44244677015881, -1.3519769477285566, -1.4272637965702424]\n",
      "11\n",
      "[-1.447492003440857, -1.447492003440857, -1.4035937786102295, -1.447492003440857, -1.447492003440857, -1.4035937786102295, -1.274411916732788, -1.4035937786102295, -1.5298746824264526, -1.4035937786102295, -1.447492003440857]\n",
      "11\n",
      "[0.6680220836845192, 0.6386960069279124, 0.6602790958203677, 0.6539121848184676, 0.6761414338047171, 0.6735859273558701, 0.6466056968765057, 0.6395829686207126, 0.6441452725148406, 0.6522756455044538, 0.6440043844245964]\n",
      "11\n"
     ]
    }
   ],
   "source": [
    "print(field_number)\n",
    "print(len(field_number))\n",
    "print(initial_star_count)\n",
    "print(len(initial_star_count))\n",
    "print(cut_star_count)\n",
    "print(len(cut_star_count))\n",
    "print(mean_metallicity)\n",
    "print(len(mean_metallicity))\n",
    "print(median_metallicity)\n",
    "print(len(median_metallicity))\n",
    "print(std)\n",
    "print(len(std))"
   ]
  },
  {
   "cell_type": "code",
   "execution_count": 38,
   "metadata": {},
   "outputs": [
    {
     "name": "stdout",
     "output_type": "stream",
     "text": [
      "Total number of initial SMC main body stars: 7018252\n",
      "Total number of SMC main body stars after color/magnitude cuts: 1189812\n"
     ]
    }
   ],
   "source": [
    "print(\"Total number of initial SMC main body stars: \"+str(sum(initial_star_count)))\n",
    "print(\"Total number of SMC main body stars after color/magnitude cuts: \"+str(sum(cut_star_count)))"
   ]
  },
  {
   "cell_type": "markdown",
   "metadata": {},
   "source": [
    "### Make table for 11 SMC main body fields"
   ]
  },
  {
   "cell_type": "code",
   "execution_count": 39,
   "metadata": {},
   "outputs": [],
   "source": [
    "arrays = [(np.array(field_number)),(np.array(initial_star_count)),(np.array(cut_star_count)),(np.array(mean_metallicity)).round(decimals=3),(np.array(median_metallicity)).round(decimals=3),(np.array(std)).round(decimals=3)]\n"
   ]
  },
  {
   "cell_type": "code",
   "execution_count": 40,
   "metadata": {},
   "outputs": [],
   "source": [
    "inner_SMC_table = Table(arrays,names=('Field Number','Initial Star Count','Star Count after Color/Magnitude Cuts','Mean Metallicity','Median Metallicity','Standard Deviation'))\n"
   ]
  },
  {
   "cell_type": "code",
   "execution_count": 41,
   "metadata": {},
   "outputs": [
    {
     "name": "stdout",
     "output_type": "stream",
     "text": [
      "Field Number Initial Star Count Star Count after Color/Magnitude Cuts Mean Metallicity Median Metallicity Standard Deviation\n",
      "------------ ------------------ ------------------------------------- ---------------- ------------------ ------------------\n",
      "          12             515707                                 87455           -1.427             -1.447              0.668\n",
      "          14             776768                                112334            -1.42             -1.447              0.639\n",
      "          15             755871                                112511           -1.355             -1.404               0.66\n",
      "          16             402062                                 66450           -1.427             -1.447              0.654\n",
      "          19              43871                                  4176           -1.402             -1.447              0.676\n",
      "           2              61991                                  6052           -1.322             -1.404              0.674\n",
      "           3             847797                                139917           -1.334             -1.274              0.647\n",
      "           4             640420                                120362           -1.365             -1.404               0.64\n",
      "           5            1048414                                194107           -1.442              -1.53              0.644\n",
      "           7            1201514                                239575           -1.352             -1.404              0.652\n",
      "           9             723837                                106873           -1.427             -1.447              0.644\n"
     ]
    }
   ],
   "source": [
    "inner_SMC_table.pprint(max_lines=-1, max_width=-1)"
   ]
  },
  {
   "cell_type": "code",
   "execution_count": 42,
   "metadata": {},
   "outputs": [],
   "source": [
    "ascii.write(outer_SMC_table,'11 SMASH SMC Main Body Fields.csv',format='csv', fast_writer=False)"
   ]
  },
  {
   "cell_type": "code",
   "execution_count": null,
   "metadata": {},
   "outputs": [],
   "source": []
  }
 ],
 "metadata": {
  "kernelspec": {
   "display_name": "Python 3",
   "language": "python",
   "name": "python3"
  },
  "language_info": {
   "codemirror_mode": {
    "name": "ipython",
    "version": 3
   },
   "file_extension": ".py",
   "mimetype": "text/x-python",
   "name": "python",
   "nbconvert_exporter": "python",
   "pygments_lexer": "ipython3",
   "version": "3.7.2"
  }
 },
 "nbformat": 4,
 "nbformat_minor": 2
}
